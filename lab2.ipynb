{
 "cells": [
  {
   "cell_type": "markdown",
   "id": "f0d1d9a6",
   "metadata": {},
   "source": [
    "# Laboratorio 2\n",
    "\n",
    "---\n",
    "\n",
    "##### Nancy Mazariegos 22513\n",
    "##### Santiago Pereira 22318\n",
    "##### Giovanni Santos 22523\n",
    "\n",
    "---"
   ]
  },
  {
   "cell_type": "markdown",
   "id": "739c6c1e",
   "metadata": {},
   "source": [
    "## Ejercicio #1\n",
    "---\n",
    "#### Parte práctica"
   ]
  },
  {
   "cell_type": "markdown",
   "id": "4b28e6d8",
   "metadata": {},
   "source": [
    "## Ejercicio #2\n",
    "---\n",
    "#### Parte práctica"
   ]
  },
  {
   "cell_type": "markdown",
   "id": "b4cef005",
   "metadata": {},
   "source": [
    "## Ejercicio #3\n",
    "---\n",
    "#### Parte práctica"
   ]
  }
 ],
 "metadata": {
  "language_info": {
   "name": "python"
  }
 },
 "nbformat": 4,
 "nbformat_minor": 5
}
