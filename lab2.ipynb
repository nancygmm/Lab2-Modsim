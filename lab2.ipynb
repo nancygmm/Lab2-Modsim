{
 "cells": [
  {
   "cell_type": "markdown",
   "id": "f0d1d9a6",
   "metadata": {},
   "source": [
    "# Laboratorio 2\n",
    "\n",
    "---\n",
    "\n",
    "##### Nancy Mazariegos 22513\n",
    "##### Santiago Pereira 22318\n",
    "##### Giovanni Santos 22523\n",
    "\n",
    "---"
   ]
  },
  {
   "cell_type": "markdown",
   "id": "739c6c1e",
   "metadata": {},
   "source": [
    "## Ejercicio #1 - Retardos de primer orden y sistemas lineales\n",
    "---\n",
    "#### Parte práctica\n",
    "\n",
    "Simular un sistema de retardo de primer orden y visualizar el equilibrio.\n",
    "Instrucciones:\n",
    "1. Cree una variable de stock a partir de 0.\n",
    "2. Establezca una entrada constante (p. ej., 10 unidades/día).\n",
    "3. Implemente la salida como stock/retraso (retraso = 5 días).\n",
    "4. Simule durante 50 días y grafique el stock y la salida a lo largo del tiempo.\n",
    "5. Opcional: Añada un cambio repentino en la entrada (p. ej., a 20 unidades/día el día 25) y observe el ajuste.\n",
    "Consideraciones\n",
    "1. Utilice un paso de tiempo (Δt) de 1 día para la integración de Euler.\n",
    "2. Etiquete los ejes y resalte los puntos de equilibrio."
   ]
  },
  {
   "cell_type": "markdown",
   "id": "4b28e6d8",
   "metadata": {},
   "source": [
    "## Ejercicio #2 - Retroalimentación Retrasada y Oscilaciones\n",
    "---\n",
    "#### Parte práctica\n",
    "\n",
    "Modele un sistema con retrasos de percepción y visualice las oscilaciones.\n",
    "Instrucciones\n",
    "1. Crear:\n",
    "a. Un stock \"real\" que se ajusta a un objetivo (p. ej., 50 unidades).\n",
    "b. Un stock \"percibido\" con retraso (p. ej., un retraso de Erlang de 15 días).\n",
    "2. Utilizar el stock percibido para la retroalimentación (flujo = (objetivo - percibido)/retraso).\n",
    "3. Simular durante 200 días y representar gráficamente los stocks reales y percibidos.\n",
    "4. Opcional: Añadir ruido a la percepción y observar la estabilidad.\n",
    "5. Considere\n",
    "a. Utilizar numpy.convolve para la implementación del retraso de Erlang.\n",
    "b. Resaltar las fases de sobrecorrección en los gráficos."
   ]
  },
  {
   "cell_type": "markdown",
   "id": "b4cef005",
   "metadata": {},
   "source": [
    "## Ejercicio #3 - Sistemas no lineales y modelado SIR\n",
    "---\n",
    "#### Parte práctica\n",
    "\n",
    "Simule un modelo SIR y explorar la dinámica no lineal.\n",
    "Instrucciones:\n",
    "1. Inicializar las poblaciones: S = 990, I = 10, R = 0.\n",
    "2. Establecer parámetros: β = 0,3/día, μ = 0,1/día (R₀ = 3).\n",
    "3. Implementar las ecuaciones:\n",
    "a. dS/dt = -βSI/N\n",
    "b. dI/dt = βSI/N – μI\n",
    "c. dR/dt = μI\n",
    "4. Ejecutar durante 100 días y graficar S, I, R.\n",
    "5. Opcional: Añadir la vacunación el día 30 (p. ej., vacunar al 50 % de S) y observar el impacto."
   ]
  }
 ],
 "metadata": {
  "language_info": {
   "name": "python"
  }
 },
 "nbformat": 4,
 "nbformat_minor": 5
}
